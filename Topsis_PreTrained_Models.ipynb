{
  "nbformat": 4,
  "nbformat_minor": 0,
  "metadata": {
    "colab": {
      "provenance": [],
      "gpuType": "T4",
      "include_colab_link": true
    },
    "kernelspec": {
      "name": "python3",
      "display_name": "Python 3"
    },
    "language_info": {
      "name": "python"
    },
    "accelerator": "GPU"
  },
  "cells": [
    {
      "cell_type": "markdown",
      "metadata": {
        "id": "view-in-github",
        "colab_type": "text"
      },
      "source": [
        "<a href=\"https://colab.research.google.com/github/Beast-Hunter/TopsisPretrainedModels/blob/main/Topsis_PreTrained_Models.ipynb\" target=\"_parent\"><img src=\"https://colab.research.google.com/assets/colab-badge.svg\" alt=\"Open In Colab\"/></a>"
      ]
    },
    {
      "cell_type": "code",
      "source": [
        "!pip install datasets"
      ],
      "metadata": {
        "colab": {
          "base_uri": "https://localhost:8080/"
        },
        "id": "eHMeEW2579NR",
        "outputId": "624aeb9a-4e6b-4f29-a2d2-6f513bd7099b"
      },
      "execution_count": 1,
      "outputs": [
        {
          "output_type": "stream",
          "name": "stdout",
          "text": [
            "Requirement already satisfied: datasets in /usr/local/lib/python3.11/dist-packages (3.5.0)\n",
            "Requirement already satisfied: filelock in /usr/local/lib/python3.11/dist-packages (from datasets) (3.18.0)\n",
            "Requirement already satisfied: numpy>=1.17 in /usr/local/lib/python3.11/dist-packages (from datasets) (2.0.2)\n",
            "Requirement already satisfied: pyarrow>=15.0.0 in /usr/local/lib/python3.11/dist-packages (from datasets) (18.1.0)\n",
            "Requirement already satisfied: dill<0.3.9,>=0.3.0 in /usr/local/lib/python3.11/dist-packages (from datasets) (0.3.8)\n",
            "Requirement already satisfied: pandas in /usr/local/lib/python3.11/dist-packages (from datasets) (2.2.2)\n",
            "Requirement already satisfied: requests>=2.32.2 in /usr/local/lib/python3.11/dist-packages (from datasets) (2.32.3)\n",
            "Requirement already satisfied: tqdm>=4.66.3 in /usr/local/lib/python3.11/dist-packages (from datasets) (4.67.1)\n",
            "Requirement already satisfied: xxhash in /usr/local/lib/python3.11/dist-packages (from datasets) (3.5.0)\n",
            "Requirement already satisfied: multiprocess<0.70.17 in /usr/local/lib/python3.11/dist-packages (from datasets) (0.70.16)\n",
            "Requirement already satisfied: fsspec<=2024.12.0,>=2023.1.0 in /usr/local/lib/python3.11/dist-packages (from fsspec[http]<=2024.12.0,>=2023.1.0->datasets) (2024.12.0)\n",
            "Requirement already satisfied: aiohttp in /usr/local/lib/python3.11/dist-packages (from datasets) (3.11.15)\n",
            "Requirement already satisfied: huggingface-hub>=0.24.0 in /usr/local/lib/python3.11/dist-packages (from datasets) (0.30.2)\n",
            "Requirement already satisfied: packaging in /usr/local/lib/python3.11/dist-packages (from datasets) (24.2)\n",
            "Requirement already satisfied: pyyaml>=5.1 in /usr/local/lib/python3.11/dist-packages (from datasets) (6.0.2)\n",
            "Requirement already satisfied: aiohappyeyeballs>=2.3.0 in /usr/local/lib/python3.11/dist-packages (from aiohttp->datasets) (2.6.1)\n",
            "Requirement already satisfied: aiosignal>=1.1.2 in /usr/local/lib/python3.11/dist-packages (from aiohttp->datasets) (1.3.2)\n",
            "Requirement already satisfied: attrs>=17.3.0 in /usr/local/lib/python3.11/dist-packages (from aiohttp->datasets) (25.3.0)\n",
            "Requirement already satisfied: frozenlist>=1.1.1 in /usr/local/lib/python3.11/dist-packages (from aiohttp->datasets) (1.5.0)\n",
            "Requirement already satisfied: multidict<7.0,>=4.5 in /usr/local/lib/python3.11/dist-packages (from aiohttp->datasets) (6.4.3)\n",
            "Requirement already satisfied: propcache>=0.2.0 in /usr/local/lib/python3.11/dist-packages (from aiohttp->datasets) (0.3.1)\n",
            "Requirement already satisfied: yarl<2.0,>=1.17.0 in /usr/local/lib/python3.11/dist-packages (from aiohttp->datasets) (1.19.0)\n",
            "Requirement already satisfied: typing-extensions>=3.7.4.3 in /usr/local/lib/python3.11/dist-packages (from huggingface-hub>=0.24.0->datasets) (4.13.2)\n",
            "Requirement already satisfied: charset-normalizer<4,>=2 in /usr/local/lib/python3.11/dist-packages (from requests>=2.32.2->datasets) (3.4.1)\n",
            "Requirement already satisfied: idna<4,>=2.5 in /usr/local/lib/python3.11/dist-packages (from requests>=2.32.2->datasets) (3.10)\n",
            "Requirement already satisfied: urllib3<3,>=1.21.1 in /usr/local/lib/python3.11/dist-packages (from requests>=2.32.2->datasets) (2.3.0)\n",
            "Requirement already satisfied: certifi>=2017.4.17 in /usr/local/lib/python3.11/dist-packages (from requests>=2.32.2->datasets) (2025.1.31)\n",
            "Requirement already satisfied: python-dateutil>=2.8.2 in /usr/local/lib/python3.11/dist-packages (from pandas->datasets) (2.8.2)\n",
            "Requirement already satisfied: pytz>=2020.1 in /usr/local/lib/python3.11/dist-packages (from pandas->datasets) (2025.2)\n",
            "Requirement already satisfied: tzdata>=2022.7 in /usr/local/lib/python3.11/dist-packages (from pandas->datasets) (2025.2)\n",
            "Requirement already satisfied: six>=1.5 in /usr/local/lib/python3.11/dist-packages (from python-dateutil>=2.8.2->pandas->datasets) (1.17.0)\n"
          ]
        }
      ]
    },
    {
      "cell_type": "code",
      "source": [
        "import numpy as np\n",
        "import pandas as pd\n",
        "import matplotlib.pyplot as plt\n",
        "from transformers import pipeline, AutoTokenizer\n",
        "import time"
      ],
      "metadata": {
        "id": "LVTSlTck_UiK"
      },
      "execution_count": 2,
      "outputs": []
    },
    {
      "cell_type": "code",
      "source": [
        "def topsis(data, weights, impacts):\n",
        "    normalized_data = data / np.sqrt(np.sum(data**2, axis=0))\n",
        "\n",
        "    weighted_data = normalized_data * weights\n",
        "\n",
        "    ideal_solution = np.max(weighted_data, axis=0)\n",
        "    negative_ideal_solution = np.min(weighted_data, axis=0)\n",
        "\n",
        "    for i in range(len(impacts)):\n",
        "        if impacts[i] == '-':\n",
        "            ideal_solution[i], negative_ideal_solution[i] = negative_ideal_solution[i], ideal_solution[i]\n",
        "\n",
        "    distance_positive = np.sqrt(np.sum((weighted_data - ideal_solution)**2, axis=1))\n",
        "    distance_negative = np.sqrt(np.sum((weighted_data - negative_ideal_solution)**2, axis=1))\n",
        "\n",
        "    performance_score = distance_negative / (distance_positive + distance_negative)\n",
        "\n",
        "    rank = np.argsort(performance_score)[::-1] + 1\n",
        "\n",
        "    return performance_score, rank\n"
      ],
      "metadata": {
        "id": "Vr9i4E8b9qNJ"
      },
      "execution_count": 3,
      "outputs": []
    },
    {
      "cell_type": "code",
      "source": [
        "def load_models():\n",
        "    return {\n",
        "        \"DeBERTa\": pipeline(\"text-classification\", model=\"microsoft/deberta-base\"),\n",
        "        \"Electra\": pipeline(\"text-classification\", model=\"google/electra-small-discriminator\"),\n",
        "        \"Longformer\": pipeline(\"text-classification\", model=\"allenai/longformer-base-4096\"),\n",
        "        \"MobileBERT\": pipeline(\"text-classification\", model=\"google/mobilebert-uncased\"),\n",
        "        \"TinyBERT\": pipeline(\"text-classification\", model=\"huawei-noah/TinyBERT_General_4L_312D\"),\n",
        "    }\n"
      ],
      "metadata": {
        "id": "LKD-odfLkebI"
      },
      "execution_count": 4,
      "outputs": []
    },
    {
      "cell_type": "code",
      "source": [
        "def evaluate_model(name, model_id, texts, labels, label_names):\n",
        "    start = time.time()\n",
        "    predictions = model_id(texts, truncation=True, padding=True)\n",
        "    end = time.time()\n",
        "\n",
        "    pred_indices = [int(pred[\"label\"].replace(\"LABEL_\", \"\")) for pred in predictions]\n",
        "    pred_names = [label_map[i] for i in pred_indices]\n",
        "\n",
        "    accuracy = sum(1 for pred, true in zip(pred_names, label_names) if pred == true) / len(labels)\n",
        "\n",
        "    model_size = sum(p.numel() for p in model.model.parameters()) * 4 / (1024**2)\n",
        "\n",
        "    results = {\n",
        "        \"model\": model_name,\n",
        "        \"accuracy\": accuracy,\n",
        "        \"inference_time\": end - start,\n",
        "        \"model_size\": model_size\n",
        "    }\n",
        "\n",
        "    return results"
      ],
      "metadata": {
        "id": "x0XPFm6F3-C9"
      },
      "execution_count": 5,
      "outputs": []
    },
    {
      "cell_type": "code",
      "source": [
        "from datasets import load_dataset\n",
        "\n",
        "dataset = load_dataset(\"ag_news\", split=\"test[:200]\")\n",
        "texts = dataset[\"text\"]\n",
        "labels = dataset[\"label\"]\n",
        "\n",
        "label_map = {\n",
        "    0: \"World\",\n",
        "    1: \"Sports\",\n",
        "    2: \"Business\",\n",
        "    3: \"Sci/Tech\"\n",
        "}\n",
        "label_names = [label_map[l] for l in labels]\n",
        "\n",
        "models = load_models()\n",
        "results = []\n",
        "for model_name, model in models.items():\n",
        "    result = evaluate_model(model_name, model, texts, labels, label_names)\n",
        "    if result:\n",
        "        results.append(result)\n",
        "\n",
        "results_df = pd.DataFrame(results)\n",
        "results_df = results_df.set_index('model')\n",
        "print(results_df)"
      ],
      "metadata": {
        "colab": {
          "base_uri": "https://localhost:8080/"
        },
        "id": "2BX9_Qb67Usq",
        "outputId": "b624e3be-f21d-4870-82e0-fe51e17517ee"
      },
      "execution_count": 6,
      "outputs": [
        {
          "output_type": "stream",
          "name": "stderr",
          "text": [
            "/usr/local/lib/python3.11/dist-packages/huggingface_hub/utils/_auth.py:94: UserWarning: \n",
            "The secret `HF_TOKEN` does not exist in your Colab secrets.\n",
            "To authenticate with the Hugging Face Hub, create a token in your settings tab (https://huggingface.co/settings/tokens), set it as secret in your Google Colab and restart your session.\n",
            "You will be able to reuse this secret in all of your notebooks.\n",
            "Please note that authentication is recommended but still optional to access public models or datasets.\n",
            "  warnings.warn(\n",
            "Some weights of DebertaForSequenceClassification were not initialized from the model checkpoint at microsoft/deberta-base and are newly initialized: ['classifier.bias', 'classifier.weight', 'pooler.dense.bias', 'pooler.dense.weight']\n",
            "You should probably TRAIN this model on a down-stream task to be able to use it for predictions and inference.\n",
            "Device set to use cuda:0\n",
            "Some weights of ElectraForSequenceClassification were not initialized from the model checkpoint at google/electra-small-discriminator and are newly initialized: ['classifier.dense.bias', 'classifier.dense.weight', 'classifier.out_proj.bias', 'classifier.out_proj.weight']\n",
            "You should probably TRAIN this model on a down-stream task to be able to use it for predictions and inference.\n",
            "Device set to use cuda:0\n",
            "Some weights of LongformerForSequenceClassification were not initialized from the model checkpoint at allenai/longformer-base-4096 and are newly initialized: ['classifier.dense.bias', 'classifier.dense.weight', 'classifier.out_proj.bias', 'classifier.out_proj.weight']\n",
            "You should probably TRAIN this model on a down-stream task to be able to use it for predictions and inference.\n",
            "Device set to use cuda:0\n",
            "Some weights of MobileBertForSequenceClassification were not initialized from the model checkpoint at google/mobilebert-uncased and are newly initialized: ['classifier.bias', 'classifier.weight']\n",
            "You should probably TRAIN this model on a down-stream task to be able to use it for predictions and inference.\n",
            "Device set to use cuda:0\n",
            "Some weights of BertForSequenceClassification were not initialized from the model checkpoint at huawei-noah/TinyBERT_General_4L_312D and are newly initialized: ['classifier.bias', 'classifier.weight']\n",
            "You should probably TRAIN this model on a down-stream task to be able to use it for predictions and inference.\n",
            "Device set to use cuda:0\n",
            "Asking to truncate to max_length but no maximum length is provided and the model has no predefined maximum length. Default to no truncation.\n",
            "Asking to truncate to max_length but no maximum length is provided and the model has no predefined maximum length. Default to no truncation.\n",
            "Initializing global attention on CLS token...\n",
            "Input ids are automatically padded to be a multiple of `config.attention_window`: 512\n",
            "Asking to truncate to max_length but no maximum length is provided and the model has no predefined maximum length. Default to no truncation.\n",
            "Asking to truncate to max_length but no maximum length is provided and the model has no predefined maximum length. Default to no truncation.\n"
          ]
        },
        {
          "output_type": "stream",
          "name": "stdout",
          "text": [
            "            accuracy  inference_time  model_size\n",
            "model                                           \n",
            "DeBERTa        0.265        9.085056  530.982430\n",
            "Electra        0.235        2.930762   51.686531\n",
            "Longformer     0.305       14.396672  567.096687\n",
            "MobileBERT     0.305        7.603389   93.776375\n",
            "TinyBERT       0.305        0.770657   54.744240\n"
          ]
        }
      ]
    },
    {
      "cell_type": "code",
      "source": [
        "weights = [0.5, 0.25, 0.25]\n",
        "impacts = ['+', '-', '-']\n",
        "\n",
        "topsis_results, rank = topsis(results_df, weights, impacts)\n",
        "print(\"\\nTOPSIS Results:\")\n",
        "topsis_results"
      ],
      "metadata": {
        "colab": {
          "base_uri": "https://localhost:8080/",
          "height": 396
        },
        "id": "PUSXwfyaoIKz",
        "outputId": "61d4d73c-be2d-4c58-a776-4a7d63416676"
      },
      "execution_count": 8,
      "outputs": [
        {
          "output_type": "stream",
          "name": "stdout",
          "text": [
            "\n",
            "TOPSIS Results:\n"
          ]
        },
        {
          "output_type": "stream",
          "name": "stderr",
          "text": [
            "<ipython-input-3-09738774a5b6>:11: FutureWarning: Series.__getitem__ treating keys as positions is deprecated. In a future version, integer keys will always be treated as labels (consistent with DataFrame behavior). To access a value by position, use `ser.iloc[pos]`\n",
            "  ideal_solution[i], negative_ideal_solution[i] = negative_ideal_solution[i], ideal_solution[i]\n",
            "<ipython-input-3-09738774a5b6>:11: FutureWarning: Series.__setitem__ treating keys as positions is deprecated. In a future version, integer keys will always be treated as labels (consistent with DataFrame behavior). To set a value by position, use `ser.iloc[pos] = value`\n",
            "  ideal_solution[i], negative_ideal_solution[i] = negative_ideal_solution[i], ideal_solution[i]\n"
          ]
        },
        {
          "output_type": "execute_result",
          "data": {
            "text/plain": [
              "model\n",
              "DeBERTa       0.282467\n",
              "Electra       0.782704\n",
              "Longformer    0.184213\n",
              "MobileBERT    0.667791\n",
              "TinyBERT      0.996113\n",
              "dtype: float64"
            ],
            "text/html": [
              "<div>\n",
              "<style scoped>\n",
              "    .dataframe tbody tr th:only-of-type {\n",
              "        vertical-align: middle;\n",
              "    }\n",
              "\n",
              "    .dataframe tbody tr th {\n",
              "        vertical-align: top;\n",
              "    }\n",
              "\n",
              "    .dataframe thead th {\n",
              "        text-align: right;\n",
              "    }\n",
              "</style>\n",
              "<table border=\"1\" class=\"dataframe\">\n",
              "  <thead>\n",
              "    <tr style=\"text-align: right;\">\n",
              "      <th></th>\n",
              "      <th>0</th>\n",
              "    </tr>\n",
              "    <tr>\n",
              "      <th>model</th>\n",
              "      <th></th>\n",
              "    </tr>\n",
              "  </thead>\n",
              "  <tbody>\n",
              "    <tr>\n",
              "      <th>DeBERTa</th>\n",
              "      <td>0.282467</td>\n",
              "    </tr>\n",
              "    <tr>\n",
              "      <th>Electra</th>\n",
              "      <td>0.782704</td>\n",
              "    </tr>\n",
              "    <tr>\n",
              "      <th>Longformer</th>\n",
              "      <td>0.184213</td>\n",
              "    </tr>\n",
              "    <tr>\n",
              "      <th>MobileBERT</th>\n",
              "      <td>0.667791</td>\n",
              "    </tr>\n",
              "    <tr>\n",
              "      <th>TinyBERT</th>\n",
              "      <td>0.996113</td>\n",
              "    </tr>\n",
              "  </tbody>\n",
              "</table>\n",
              "</div><br><label><b>dtype:</b> float64</label>"
            ]
          },
          "metadata": {},
          "execution_count": 8
        }
      ]
    },
    {
      "cell_type": "code",
      "source": [
        "plt.figure(figsize=(10, 6))\n",
        "plt.bar(results_df.index, topsis_results)\n",
        "plt.xlabel(\"Models\")\n",
        "plt.ylabel(\"Performance Score\")\n",
        "plt.title(\"TOPSIS Performance Scores for Different Models\")\n",
        "plt.xticks(rotation=45, ha=\"right\")\n",
        "plt.tight_layout()\n",
        "plt.show()"
      ],
      "metadata": {
        "colab": {
          "base_uri": "https://localhost:8080/",
          "height": 607
        },
        "id": "P7Hy7Cxh-JWW",
        "outputId": "a733b38e-3b1c-4497-fc23-e303b91cf8e5"
      },
      "execution_count": 9,
      "outputs": [
        {
          "output_type": "display_data",
          "data": {
            "text/plain": [
              "<Figure size 1000x600 with 1 Axes>"
            ],
            "image/png": "[encoded data removed]"
          },
          "metadata": {}
        }
      ]
    }
  ]
}